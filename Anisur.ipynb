{
 "cells": [
  {
   "cell_type": "code",
   "execution_count": 26,
   "metadata": {
    "collapsed": true
   },
   "outputs": [],
   "source": [
    "#Symbol Table(143-15-4602)"
   ]
  },
  {
   "cell_type": "code",
   "execution_count": 27,
   "metadata": {
    "collapsed": true
   },
   "outputs": [],
   "source": [
    "Input_file = \"\"\"\n",
    "int a , b , c ;\n",
    "float d , e ;\n",
    "a = b = 5 ;\n",
    "c = 6 ;\n",
    "if ( a > b )\n",
    "{\n",
    "    c = a - b ;\n",
    "    e = d - 2.0 ;\n",
    "}\n",
    "else\n",
    "{\n",
    "    d = e + 6.0 ;\n",
    "    b = a + c ;\n",
    "}\n",
    "\n",
    "\"\"\""
   ]
  },
  {
   "cell_type": "code",
   "execution_count": 28,
   "metadata": {
    "collapsed": true
   },
   "outputs": [],
   "source": [
    "mathoprator = ['+','-','*','/','=','+=','-=','*=','/=','%=']\n",
    "keyword = ['auto','break','case','char','const','const','continue','default','do','double','else','enum','extern','float','for',\n",
    "           'goto','if','int','long','register','return','short','signed','sizeof','static','struct','switch','typedef','union',\n",
    "            'unsigned','void','volatile','while']\n",
    "logical = ['==','!=','!','>','<','>=','<=','&&','||']\n",
    "\n",
    "bitwise =['&','|','<','^','~','<<','>>']\n",
    "\n",
    "other = [',',';','(',')','{','}','[',']']\n"
   ]
  },
  {
   "cell_type": "code",
   "execution_count": 29,
   "metadata": {
    "collapsed": true
   },
   "outputs": [],
   "source": [
    "def lexical_analyzer(Input_file): \n",
    "    \n",
    "    return file.split()"
   ]
  },
  {
   "cell_type": "code",
   "execution_count": 35,
   "metadata": {
    "collapsed": true
   },
   "outputs": [],
   "source": [
    "def smbl_table (inputs):\n",
    "    k = []  \n",
    "    m = []\n",
    "    l = []  \n",
    "    b = []  \n",
    "    o = []  \n",
    "    n = []  \n",
    "    i = []  \n",
    "    f = []\n",
    "    \n",
    "    for data in inputs:\n",
    "        if data in keyword: \n",
    "            if data not in k: \n",
    "                k.append(data)   \n",
    "        elif data in mathoprator:\n",
    "            if data not in m:\n",
    "                m.append(data)\n",
    "        elif data in logical:\n",
    "            if data not in l:\n",
    "                l.append(data)\n",
    "        elif data in bitwise:\n",
    "            if data not in b:\n",
    "                b.append(data)\n",
    "        elif data in other:\n",
    "            if data not in o:\n",
    "                o.append(data)\n",
    "        else:\n",
    "            try:\n",
    "                num = int(data)\n",
    "                if num not in n:\n",
    "                    n.append(num)\n",
    "            except:\n",
    "                try:\n",
    "                    num = float(data)\n",
    "                    if num not in f:\n",
    "                        f.append(num)\n",
    "                except:\n",
    "                    if data not in i:\n",
    "                        i.append(data)\n",
    "    \n",
    "    outputs = {\n",
    "        'Keywords are': k,\n",
    "        'Identifiers are' : i,\n",
    "        'Math Operators are' : m,\n",
    "        'Logical Operators are' : l + b,\n",
    "        'Numerical Values are' : n + f, \n",
    "        'Others are' : o\n",
    "    }\n",
    "    \n",
    "    return outputs"
   ]
  },
  {
   "cell_type": "code",
   "execution_count": 36,
   "metadata": {},
   "outputs": [
    {
     "name": "stdout",
     "output_type": "stream",
     "text": [
      "Keywords are : ['int', 'float', 'if', 'else']\n",
      "Identifiers are : ['a', 'b', 'c', 'd', 'e']\n",
      "Math Operators are : ['=', '-', '+']\n",
      "Logical Operators are : ['>']\n",
      "Numerical Values are : [5, 6, 2.0, 6.0]\n",
      "Others are : [',', ';', '(', ')', '{', '}']\n"
     ]
    }
   ],
   "source": [
    "L = lexical_analyzer(Input_file)\n",
    "S_table = smbl_table(inputs=L)\n",
    "for x in S_table:\n",
    "        print (x,':',S_table[x])"
   ]
  },
  {
   "cell_type": "code",
   "execution_count": null,
   "metadata": {
    "collapsed": true
   },
   "outputs": [],
   "source": []
  },
  {
   "cell_type": "code",
   "execution_count": null,
   "metadata": {
    "collapsed": true
   },
   "outputs": [],
   "source": []
  },
  {
   "cell_type": "code",
   "execution_count": null,
   "metadata": {
    "collapsed": true
   },
   "outputs": [],
   "source": []
  },
  {
   "cell_type": "code",
   "execution_count": null,
   "metadata": {
    "collapsed": true
   },
   "outputs": [],
   "source": []
  }
 ],
 "metadata": {
  "kernelspec": {
   "display_name": "Python 3",
   "language": "python",
   "name": "python3"
  },
  "language_info": {
   "codemirror_mode": {
    "name": "ipython",
    "version": 3
   },
   "file_extension": ".py",
   "mimetype": "text/x-python",
   "name": "python",
   "nbconvert_exporter": "python",
   "pygments_lexer": "ipython3",
   "version": "3.6.3"
  }
 },
 "nbformat": 4,
 "nbformat_minor": 2
}
